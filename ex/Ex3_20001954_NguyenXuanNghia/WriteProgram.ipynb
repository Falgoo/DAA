{
 "cells": [
  {
   "attachments": {},
   "cell_type": "markdown",
   "metadata": {},
   "source": [
    "# Sum of digits of a number"
   ]
  },
  {
   "cell_type": "code",
   "execution_count": 308,
   "metadata": {},
   "outputs": [],
   "source": [
    "def sum_of_digits(n):\n",
    "    if n < 10:\n",
    "        return n\n",
    "    else:\n",
    "        return n % 10 + sum_of_digits(n // 10)"
   ]
  },
  {
   "attachments": {},
   "cell_type": "markdown",
   "metadata": {},
   "source": [
    "# Test"
   ]
  },
  {
   "cell_type": "code",
   "execution_count": 309,
   "metadata": {},
   "outputs": [
    {
     "name": "stdout",
     "output_type": "stream",
     "text": [
      "Tổng các chữ số của số: 234 is: 9\n"
     ]
    }
   ],
   "source": [
    "number = 234\n",
    "print('Tổng các chữ số của số:', number, 'is:', sum_of_digits(number))"
   ]
  },
  {
   "attachments": {},
   "cell_type": "markdown",
   "metadata": {},
   "source": [
    "# List prime smaller than n"
   ]
  },
  {
   "cell_type": "code",
   "execution_count": 310,
   "metadata": {},
   "outputs": [],
   "source": [
    "def list_primes_recursive(n, list=[]):\n",
    "    if n < 2:\n",
    "        return []\n",
    "    if n == 2:\n",
    "        return [2]\n",
    "    \n",
    "    list_primes_recursive(n - 1, list)\n",
    "\n",
    "    if is_prime(n):\n",
    "        list.append(n)\n",
    "    return list\n",
    "        \n",
    "def is_prime(n, divisor = 2):\n",
    "    if n ==2:\n",
    "        return True\n",
    "    if n < 2:\n",
    "        return False\n",
    "    if n % divisor == 0:\n",
    "        return False\n",
    "    elif divisor * divisor > n:\n",
    "        return True\n",
    "    else:\n",
    "        return is_prime(n, divisor + 1)\n",
    "    \n"
   ]
  },
  {
   "attachments": {},
   "cell_type": "markdown",
   "metadata": {},
   "source": [
    "# Test"
   ]
  },
  {
   "cell_type": "code",
   "execution_count": 311,
   "metadata": {},
   "outputs": [
    {
     "name": "stdout",
     "output_type": "stream",
     "text": [
      "List prime smaller than 30 is  [3, 5, 7, 11, 13, 17, 19, 23, 29]\n"
     ]
    }
   ],
   "source": [
    "n = 30\n",
    "print('List prime smaller than', n, 'is ', list_primes_recursive(n))"
   ]
  },
  {
   "attachments": {},
   "cell_type": "markdown",
   "metadata": {},
   "source": [
    "# n first number primes "
   ]
  },
  {
   "cell_type": "code",
   "execution_count": 312,
   "metadata": {},
   "outputs": [],
   "source": [
    "def n_primes_recursive(n, current_num=3, list_prime=[2]):\n",
    "    if len(list_prime) == n:\n",
    "        return list_prime\n",
    "    \n",
    "    if is_prime(current_num):\n",
    "        list_prime.append(current_num)\n",
    "        \n",
    "    return n_primes_recursive(n, current_num + 2, list_prime)\n",
    "\n",
    "def is_prime(n, divisor = 2):\n",
    "    if n ==2:\n",
    "        return True\n",
    "    if n < 2:\n",
    "        return False\n",
    "    if n % divisor == 0:\n",
    "        return False\n",
    "    elif divisor * divisor > n:\n",
    "        return True\n",
    "    else:\n",
    "        return is_prime(n, divisor + 1)"
   ]
  },
  {
   "attachments": {},
   "cell_type": "markdown",
   "metadata": {},
   "source": [
    "# Test"
   ]
  },
  {
   "cell_type": "code",
   "execution_count": 313,
   "metadata": {},
   "outputs": [
    {
     "name": "stdout",
     "output_type": "stream",
     "text": [
      "20 first primes are:  [2, 3, 5, 7, 11, 13, 17, 19, 23, 29, 31, 37, 41, 43, 47, 53, 59, 61, 67, 71]\n"
     ]
    }
   ],
   "source": [
    "n = 20\n",
    "print(n,\"first primes are: \", n_primes_recursive(n))"
   ]
  },
  {
   "attachments": {},
   "cell_type": "markdown",
   "metadata": {},
   "source": [
    "# Reverse String"
   ]
  },
  {
   "cell_type": "code",
   "execution_count": 314,
   "metadata": {},
   "outputs": [],
   "source": [
    "def reverse_string(str):\n",
    "    if len(str) <= 1:\n",
    "        return str\n",
    "    else:\n",
    "        return str[-1] + reverse_string(str[:-1])"
   ]
  },
  {
   "attachments": {},
   "cell_type": "markdown",
   "metadata": {},
   "source": [
    "# Test"
   ]
  },
  {
   "cell_type": "code",
   "execution_count": 315,
   "metadata": {},
   "outputs": [
    {
     "name": "stdout",
     "output_type": "stream",
     "text": [
      "Reverse string of hello world is: dlrow olleh\n"
     ]
    }
   ],
   "source": [
    "str = \"hello world\"\n",
    "print(\"Reverse string of\", str, \"is:\", reverse_string(str))"
   ]
  },
  {
   "attachments": {},
   "cell_type": "markdown",
   "metadata": {},
   "source": [
    "# Print triangle Pascal"
   ]
  },
  {
   "cell_type": "code",
   "execution_count": 316,
   "metadata": {},
   "outputs": [],
   "source": [
    "def pascal_triangle_recursive(n):\n",
    "    if n == 0:\n",
    "        return []\n",
    "    elif n == 1:\n",
    "        return [[1]]\n",
    "    else:\n",
    "        triangle = pascal_triangle_recursive(n-1)\n",
    "        last_row = triangle[-1]\n",
    "        new_row = [1] + [last_row[index] + last_row[index+1] for index in range(len(last_row)-1)] + [1]\n",
    "        triangle.append(new_row)\n",
    "        return triangle\n",
    "\n",
    "def print_pascal_triangle_recursive(n):\n",
    "    triangle = pascal_triangle_recursive(n)\n",
    "    max_width = len(triangle[:][-1])\n",
    "\n",
    "    for col in range(max_width):\n",
    "        for tab in range( max_width - col):\n",
    "            print(end=\" \")\n",
    "        for row in triangle[col]:\n",
    "            print(row, end=\" \")\n",
    "        print(\"\\n\")\n",
    "\n",
    "\n"
   ]
  },
  {
   "attachments": {},
   "cell_type": "markdown",
   "metadata": {},
   "source": [
    "# Test"
   ]
  },
  {
   "cell_type": "code",
   "execution_count": 317,
   "metadata": {},
   "outputs": [
    {
     "name": "stdout",
     "output_type": "stream",
     "text": [
      "triangle pascal is: \n",
      "\n",
      "     1 \n",
      "\n",
      "    1 1 \n",
      "\n",
      "   1 2 1 \n",
      "\n",
      "  1 3 3 1 \n",
      "\n",
      " 1 4 6 4 1 \n",
      "\n"
     ]
    }
   ],
   "source": [
    "n = 5\n",
    "print(\"triangle pascal is: \\n\")\n",
    "print_pascal_triangle_recursive(n)"
   ]
  }
 ],
 "metadata": {
  "kernelspec": {
   "display_name": "Python 3",
   "language": "python",
   "name": "python3"
  },
  "language_info": {
   "codemirror_mode": {
    "name": "ipython",
    "version": 3
   },
   "file_extension": ".py",
   "mimetype": "text/x-python",
   "name": "python",
   "nbconvert_exporter": "python",
   "pygments_lexer": "ipython3",
   "version": "3.10.10"
  },
  "orig_nbformat": 4
 },
 "nbformat": 4,
 "nbformat_minor": 2
}
