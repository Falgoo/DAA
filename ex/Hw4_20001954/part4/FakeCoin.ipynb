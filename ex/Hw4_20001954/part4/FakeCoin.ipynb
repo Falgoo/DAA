{
 "cells": [
  {
   "attachments": {},
   "cell_type": "markdown",
   "metadata": {},
   "source": [
    "# Find fake coin function"
   ]
  },
  {
   "cell_type": "code",
   "execution_count": 3,
   "metadata": {},
   "outputs": [],
   "source": [
    "def findFakeCoin(coins, left, right):\n",
    "    if left == right:   # if only 1 coin return it\n",
    "        return left\n",
    "    \n",
    "    mid = (left + right) // 2\n",
    "    left_weight = sum(coins[left:mid+1])    # weight of coins in left part\n",
    "    right_weight = sum(coins[mid+1:right+1]) # weight of coins in right part\n",
    "    \n",
    "    if left_weight < right_weight:\n",
    "        return findFakeCoin(coins, left, mid) # find fake coin left part\n",
    "    else:\n",
    "        return findFakeCoin(coins, mid + 1, right) # find fake coin in right part\n",
    "\n",
    "def find_fake_coin(coins):\n",
    "    return findFakeCoin(coins, 0, len(coins) - 1)"
   ]
  },
  {
   "attachments": {},
   "cell_type": "markdown",
   "metadata": {},
   "source": [
    "# Test function"
   ]
  },
  {
   "cell_type": "code",
   "execution_count": 4,
   "metadata": {},
   "outputs": [
    {
     "name": "stdout",
     "output_type": "stream",
     "text": [
      "Position of fake coin is: 8\n"
     ]
    }
   ],
   "source": [
    "coins = [1, 1, 1, 1, 1, 1, 1, 1, 0.5, 1, 1, 1, 1, 1, 1, 1]\n",
    "print(\"Position of fake coin is:\",find_fake_coin(coins))"
   ]
  }
 ],
 "metadata": {
  "kernelspec": {
   "display_name": "Python 3",
   "language": "python",
   "name": "python3"
  },
  "language_info": {
   "codemirror_mode": {
    "name": "ipython",
    "version": 3
   },
   "file_extension": ".py",
   "mimetype": "text/x-python",
   "name": "python",
   "nbconvert_exporter": "python",
   "pygments_lexer": "ipython3",
   "version": "3.10.10"
  },
  "orig_nbformat": 4
 },
 "nbformat": 4,
 "nbformat_minor": 2
}
