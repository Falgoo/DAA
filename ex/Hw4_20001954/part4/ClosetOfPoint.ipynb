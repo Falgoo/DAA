{
 "cells": [
  {
   "attachments": {},
   "cell_type": "markdown",
   "metadata": {},
   "source": [
    "# Import library"
   ]
  },
  {
   "cell_type": "code",
   "execution_count": 5,
   "metadata": {},
   "outputs": [],
   "source": [
    "import numpy as np\n",
    "import timeit\n",
    "import matplotlib.pyplot as plt\n",
    "import math"
   ]
  },
  {
   "attachments": {},
   "cell_type": "markdown",
   "metadata": {},
   "source": [
    "# Function find closest pair"
   ]
  },
  {
   "cell_type": "code",
   "execution_count": 6,
   "metadata": {},
   "outputs": [],
   "source": [
    "# create point\n",
    "class Point:\n",
    "    def __init__(self, x, y):\n",
    "        self.x = x\n",
    "        self.y = y\n",
    "\n",
    "# distance of two points\n",
    "def distance(p1, p2):\n",
    "    return math.sqrt(pow((p1.x - p2.x), 2) + pow((p1.y - p2.y), 2))\n",
    "\n",
    "# find min distance of point between points in left and points in right\n",
    "def min(p1L, p2L, p1R, p2R):\n",
    "    if distance(p1L, p2L) < distance(p1R, p2R):\n",
    "        return p1L, p2L\n",
    "    else:\n",
    "        return p1R, p2R\n",
    "\n",
    "# find 2 points has closest distance in three points\n",
    "def closestPairInThree(ps, n):\n",
    "    min_distance = float(\"inf\")\n",
    "    p1Index = 0; p2Index = 1\n",
    "\n",
    "    # find point pair has min distance\n",
    "    for index in range(n - 1):\n",
    "        for next_index in range(index+1, n):\n",
    "            if distance(ps[index], ps[next_index]) < min_distance:\n",
    "                p1Index = index\n",
    "                p2Index = next_index\n",
    "                min_distance = distance(ps[index], ps[next_index])\n",
    "    return ps[p1Index], ps[p2Index]\n",
    "\n",
    "# find strip closest\n",
    "def stripClosest(strip, size, distance):\n",
    "    min_distance = distance\n",
    "    strip = sorted(strip, key=lambda point: point.y)\n",
    "    p1Index = 0; p2Index = 1\n",
    "\n",
    "    # find point pair has min distance\n",
    "    for index in range(size):\n",
    "        for next_index in range(index+1, size):\n",
    "            if (strip[next_index].y - strip[index].y) >= min_distance:\n",
    "                break\n",
    "            if distance(strip[index], strip[next_index]) < min_distance:\n",
    "                p1Index = index\n",
    "                p2Index = next_index\n",
    "                min_distance = distance(strip[index], strip[next_index])\n",
    "    return strip[p1Index], strip[p2Index]\n",
    "\n",
    "# use divide and conquer to find closest distance when number of points > 3\n",
    "def closestPair(ps, n):\n",
    "    if n <= 3:\n",
    "        return closestPairInThree(ps, n) # if number points smaller of equal 3 use bruteforce to find closest distance\n",
    "    mid = n//2\n",
    "    p1L, p2L = closestPair(ps, mid)             # closest pair in left part\n",
    "    p1R, p2R = closestPair(ps[mid:], n - mid)   # closest pair in right part\n",
    "    p1Min, p2Min = min(p1L, p2L, p1R, p2R)      # closest pair in 2 part\n",
    "    minDistance = distance(p1Min, p2Min)        # distance of closest part\n",
    "    strip = []\n",
    "\n",
    "    # list point with distance from point to point in middle smaller than minDistance\n",
    "    for i in range(n):\n",
    "        if abs(ps[i].x - ps[mid].x) < minDistance:\n",
    "            strip.append(ps[i])\n",
    "    newpP1R, newP2R = stripClosest(strip, len(strip), minDistance)\n",
    "    return min(p1L, p2L, newpP1R, newP2R)\n",
    "\n",
    "def closest_pair(ps):\n",
    "    ps.sort(key=lambda point: point.x)\n",
    "    return closestPair(ps, len(ps))"
   ]
  },
  {
   "attachments": {},
   "cell_type": "markdown",
   "metadata": {},
   "source": [
    "# Test function"
   ]
  },
  {
   "cell_type": "code",
   "execution_count": 7,
   "metadata": {},
   "outputs": [
    {
     "name": "stdout",
     "output_type": "stream",
     "text": [
      "closest pair is ( 2 , 3 ) ( 3 , 4 )\n",
      "distance is:  1.4142135623730951\n"
     ]
    }
   ],
   "source": [
    "ps = [  Point(x=2, y=3), Point(x=12, y=30),\n",
    "        Point(x=40, y=50), Point(x=5, y=1),\n",
    "        Point(x=12, y=10), Point(x=3, y=4) ]\n",
    "\n",
    "p1, p2 = closest_pair(ps)\n",
    "print(\"closest pair is (\", p1.x, \",\", p1.y, \")\", end=\" \")\n",
    "print(\"(\", p2.x, \",\", p2.y, \")\")\n",
    "print(\"distance is: \", distance(p1, p2))"
   ]
  }
 ],
 "metadata": {
  "kernelspec": {
   "display_name": "Python 3",
   "language": "python",
   "name": "python3"
  },
  "language_info": {
   "codemirror_mode": {
    "name": "ipython",
    "version": 3
   },
   "file_extension": ".py",
   "mimetype": "text/x-python",
   "name": "python",
   "nbconvert_exporter": "python",
   "pygments_lexer": "ipython3",
   "version": "3.10.10"
  },
  "orig_nbformat": 4
 },
 "nbformat": 4,
 "nbformat_minor": 2
}
