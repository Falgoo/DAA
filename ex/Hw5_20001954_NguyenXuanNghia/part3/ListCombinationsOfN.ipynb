{
 "cells": [
  {
   "attachments": {},
   "cell_type": "markdown",
   "metadata": {},
   "source": [
    "# Function combination show list combination k of n"
   ]
  },
  {
   "cell_type": "code",
   "execution_count": 54,
   "metadata": {},
   "outputs": [
    {
     "name": "stdout",
     "output_type": "stream",
     "text": [
      "[1, 2, 3]\n",
      "[1, 2, 4]\n",
      "[1, 2, 5]\n",
      "[1, 3, 4]\n",
      "[1, 3, 5]\n",
      "[1, 4, 5]\n",
      "[2, 3, 4]\n",
      "[2, 3, 5]\n",
      "[2, 4, 5]\n",
      "[3, 4, 5]\n"
     ]
    }
   ],
   "source": [
    "\n",
    "n = 5                       # define number n\n",
    "k = 3                       # define number k\n",
    "\n",
    "combination = []            # define combination\n",
    "\n",
    "def combinations(i):\n",
    "    for num in range(n):                               # num in n\n",
    "        \n",
    "        # if i is 1st number or number num bigger than previous number \n",
    "        if ((i == 0) or (combination[i - 1] < num)):\n",
    "\n",
    "            combination.append(num)                     # update status of combination\n",
    "\n",
    "            if i == k - 1:                              # if i is the last number in combination\n",
    "                print([num + 1 for num in combination]) # print combination use num + 1 because start from 0\n",
    "\n",
    "            else:                                       # if i is not the last number in combination\n",
    "                combinations(i + 1)                     # continue find new number for combination\n",
    "\n",
    "            combination.pop()                           # restore status as not accepted num\n",
    "\n",
    "# implement with start from 0\n",
    "combinations(0)"
   ]
  }
 ],
 "metadata": {
  "kernelspec": {
   "display_name": "Python 3",
   "language": "python",
   "name": "python3"
  },
  "language_info": {
   "codemirror_mode": {
    "name": "ipython",
    "version": 3
   },
   "file_extension": ".py",
   "mimetype": "text/x-python",
   "name": "python",
   "nbconvert_exporter": "python",
   "pygments_lexer": "ipython3",
   "version": "3.10.11"
  },
  "orig_nbformat": 4
 },
 "nbformat": 4,
 "nbformat_minor": 2
}
