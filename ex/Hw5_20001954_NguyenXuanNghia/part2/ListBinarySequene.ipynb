{
 "cells": [
  {
   "attachments": {},
   "cell_type": "markdown",
   "metadata": {},
   "source": [
    "# List binary sequence function show list binary have n length"
   ]
  },
  {
   "cell_type": "code",
   "execution_count": 1,
   "metadata": {},
   "outputs": [
    {
     "name": "stdout",
     "output_type": "stream",
     "text": [
      "Binary is: [0, 0, 0]\n",
      "Binary is: [0, 0, 1]\n",
      "Binary is: [0, 1, 0]\n",
      "Binary is: [0, 1, 1]\n",
      "Binary is: [1, 0, 0]\n",
      "Binary is: [1, 0, 1]\n",
      "Binary is: [1, 1, 0]\n",
      "Binary is: [1, 1, 1]\n"
     ]
    }
   ],
   "source": [
    "# define length of binary\n",
    "n = 3\n",
    "\n",
    "# define binary number\n",
    "binary = []\n",
    "\n",
    "def listBinarySequence(i):\n",
    "\n",
    "    for bit in range(2):                    # bit only 0 or 1\n",
    "        binary.append(bit)                  # update status of binary number\n",
    "\n",
    "        if i == n - 1:                      # because start from 0 so if i = n - 1 (n is length binary required)\n",
    "            print(\"Binary is:\", binary)     # print binary number\n",
    "\n",
    "        else:                               # if i < length of binary required, continue generate\n",
    "            listBinarySequence(i + 1)   \n",
    "        binary.pop()                        # restore binary number when unaccepted this bit\n",
    "\n",
    "# implement function start from 0\n",
    "listBinarySequence(0)"
   ]
  }
 ],
 "metadata": {
  "kernelspec": {
   "display_name": "Python 3",
   "language": "python",
   "name": "python3"
  },
  "language_info": {
   "codemirror_mode": {
    "name": "ipython",
    "version": 3
   },
   "file_extension": ".py",
   "mimetype": "text/x-python",
   "name": "python",
   "nbconvert_exporter": "python",
   "pygments_lexer": "ipython3",
   "version": "3.10.11"
  },
  "orig_nbformat": 4
 },
 "nbformat": 4,
 "nbformat_minor": 2
}
