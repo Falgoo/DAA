{
 "cells": [
  {
   "attachments": {},
   "cell_type": "markdown",
   "metadata": {},
   "source": [
    "# Function stringMatch"
   ]
  },
  {
   "cell_type": "code",
   "execution_count": 2,
   "metadata": {},
   "outputs": [
    {
     "name": "stdout",
     "output_type": "stream",
     "text": [
      "position start of string match is 6\n"
     ]
    }
   ],
   "source": [
    "def stringMatching(string1, string2):\n",
    "        lenString1 = len(string1)                   # length of string 1\n",
    "        lenString2 = len(string2)                   # length of string 2\n",
    "\n",
    "        for i in range(lenString1 - lenString2):    # find from 0 to length string long - length string short\n",
    "                j = 0                               # define position of start string 2\n",
    "\n",
    "                # as long as j < length of string 2 and character of string 2 at j match character of string 1 at i + j \n",
    "                while j < lenString2 and string2[j] == string1[i + j]:\n",
    "                    j += 1                          # increase j to find is next character is match?\n",
    "                    \n",
    "                if j == lenString2:                 # j = lenString2 is j has length equal length string 2\n",
    "                    return i                        # return position start of string match\n",
    "        return -1                                   # if not found return -1\n",
    "\n",
    "print(\"position start of string match is\", stringMatching(\"bbabaxababayaba\", \"ababay\"))"
   ]
  }
 ],
 "metadata": {
  "kernelspec": {
   "display_name": "Python 3",
   "language": "python",
   "name": "python3"
  },
  "language_info": {
   "codemirror_mode": {
    "name": "ipython",
    "version": 3
   },
   "file_extension": ".py",
   "mimetype": "text/x-python",
   "name": "python",
   "nbconvert_exporter": "python",
   "pygments_lexer": "ipython3",
   "version": "3.10.11"
  },
  "orig_nbformat": 4
 },
 "nbformat": 4,
 "nbformat_minor": 2
}
