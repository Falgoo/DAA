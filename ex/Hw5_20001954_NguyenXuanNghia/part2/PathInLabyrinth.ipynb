{
 "cells": [
  {
   "attachments": {},
   "cell_type": "markdown",
   "metadata": {},
   "source": [
    "# Define labrynth matrix and relate variables"
   ]
  },
  {
   "cell_type": "code",
   "execution_count": 1,
   "metadata": {},
   "outputs": [],
   "source": [
    "# matrix of labyrinth\n",
    "labyrinthMatrix = [[0, 1, 0, 0, 0, 0, 0, 1],\n",
    "                   [1, 0, 1, 0, 0, 0, 1, 1],\n",
    "                   [0, 1, 0, 0, 0, 1, 1, 0],\n",
    "                   [0, 0, 0, 0, 1, 1, 0, 0],\n",
    "                   [0, 0, 0, 1, 0, 0, 0, 0],\n",
    "                   [0, 0, 1, 1, 0, 0, 1, 0],\n",
    "                   [0, 1, 1, 0, 0, 1, 0, 0],\n",
    "                   [1, 1, 0, 0, 0, 0, 0, 0]]\n",
    "\n",
    "start = 0\n",
    "finish = 4\n",
    "path = []                       # path in labyrith\n",
    "n = len(labyrinthMatrix[0])     # num of vertices in labrynth\n",
    "passed = [False] * n            # list vertices passed"
   ]
  },
  {
   "attachments": {},
   "cell_type": "markdown",
   "metadata": {},
   "source": [
    "# Function find paths in labyrinth"
   ]
  },
  {
   "cell_type": "code",
   "execution_count": 2,
   "metadata": {},
   "outputs": [
    {
     "name": "stdout",
     "output_type": "stream",
     "text": [
      "Path in labyrinth [1, 2, 3, 6, 4, 5]\n",
      "Path in labyrinth [1, 2, 3, 7, 6, 4, 5]\n",
      "Path in labyrinth [1, 2, 7, 3, 6, 4, 5]\n",
      "Path in labyrinth [1, 2, 7, 6, 4, 5]\n",
      "Path in labyrinth [1, 8, 2, 3, 6, 4, 5]\n",
      "Path in labyrinth [1, 8, 2, 3, 7, 6, 4, 5]\n",
      "Path in labyrinth [1, 8, 2, 7, 3, 6, 4, 5]\n",
      "Path in labyrinth [1, 8, 2, 7, 6, 4, 5]\n"
     ]
    }
   ],
   "source": [
    "def pathInLabyrinth(i):\n",
    "\n",
    "    for v in range(n):                      # v is vertex in labyrinthMatrix\n",
    "\n",
    "        # if exist path between from previous vertex and v vertex and not passed\n",
    "        if labyrinthMatrix[path[i - 1]][v] == 1 and (not passed[v]):\n",
    "\n",
    "            path.append(v)                  # update status of path\n",
    "            passed[v] = True                # update status of passed\n",
    "\n",
    "            if path[i] == finish:           # if go to destination (finish) vertex\n",
    "\n",
    "                # print path (because matrix start from 0 so vertex + 1 to get right vertex)\n",
    "                print(\"Path in labyrinth\", [vertex + 1 for vertex in path])\n",
    "\n",
    "            else:                           # if i not go to finish vertex then continue find new vertex\n",
    "                pathInLabyrinth(i + 1)      \n",
    "\n",
    "            passed[v] = False               # restore status when unaccepted v vertex of passed\n",
    "            path.pop()                      # restore status when unaccepted v vertex of path\n",
    "\n",
    "# define default path alway pass start vertex\n",
    "path.append(start)\n",
    "passed[start] = True\n",
    "\n",
    "# find from 2 vertex to finish vertex\n",
    "pathInLabyrinth(1)"
   ]
  }
 ],
 "metadata": {
  "kernelspec": {
   "display_name": "Python 3",
   "language": "python",
   "name": "python3"
  },
  "language_info": {
   "codemirror_mode": {
    "name": "ipython",
    "version": 3
   },
   "file_extension": ".py",
   "mimetype": "text/x-python",
   "name": "python",
   "nbconvert_exporter": "python",
   "pygments_lexer": "ipython3",
   "version": "3.10.11"
  },
  "orig_nbformat": 4
 },
 "nbformat": 4,
 "nbformat_minor": 2
}
