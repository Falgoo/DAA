{
 "cells": [
  {
   "attachments": {},
   "cell_type": "markdown",
   "metadata": {},
   "source": [
    "# Define n cities matrix and relate variables"
   ]
  },
  {
   "cell_type": "code",
   "execution_count": 165,
   "metadata": {},
   "outputs": [],
   "source": [
    "# define INF as not path between two cities\n",
    "INF = float(\"inf\")\n",
    "\n",
    "# define n cities matrix\n",
    "nCitiesMatrix =    [[INF, 3, INF, INF, INF, INF, INF, 3],\n",
    "                   [3, INF, 5, INF, INF, INF, 1, 1],\n",
    "                   [INF, 5, INF, 7, 40, 1, 3, INF],\n",
    "                   [INF, INF, 7, INF, 5, 1, 4, INF],\n",
    "                   [INF, INF, 40, 5, INF, 9, 1, INF],\n",
    "                   [INF, INF, 1, 1, 9, INF, 2, INF],\n",
    "                   [INF, 6, 3, 4, 1, 2, INF, 8],\n",
    "                   [3, 3, INF, INF, INF, INF, 8, INF]]\n",
    "\n",
    "start = 0                       # define city start\n",
    "n  = len(nCitiesMatrix[0])      # define num cities\n",
    "passed = [False] * n            # define cities passed\n",
    "bestCost = INF                  # define best cost\n",
    "cost = 0                        # define cost default\n",
    "path = []                       # define path pass cities"
   ]
  },
  {
   "attachments": {},
   "cell_type": "markdown",
   "metadata": {},
   "source": [
    "# Function traveling salesman and run"
   ]
  },
  {
   "cell_type": "code",
   "execution_count": 166,
   "metadata": {},
   "outputs": [
    {
     "name": "stdout",
     "output_type": "stream",
     "text": [
      "\n",
      "Best cost is: 42\n",
      "Path is: [1, 2, 3, 4, 5, 6, 7, 8, 1]\n",
      "\n",
      "Best cost is: 37\n",
      "Path is: [1, 2, 3, 4, 6, 5, 7, 8, 1]\n",
      "\n",
      "Best cost is: 27\n",
      "Path is: [1, 2, 3, 6, 4, 5, 7, 8, 1]\n"
     ]
    }
   ],
   "source": [
    "def travelingSalesman(i, c):\n",
    "    global bestCost                      # define global bestcost to use and update\n",
    "\n",
    "    for city in range(n):                       # city in cities\n",
    "\n",
    "        # cost for passing city (use i - 1 because matrix start from 0)\n",
    "        costPassCity = nCitiesMatrix[path[i - 1]][city]\n",
    "    \n",
    "        # because start from 0 so n meaning that pass all the cities and recent i is the next city\n",
    "        if i == n:                               # if has passed all the cities\n",
    "            passed[start] = False                # set start city is false so that the last city could have path to start city\n",
    "        elif i < n:                              # if i < n meaning that not pass all cities\n",
    "            passed[start] = True                 # set start city is true to avoid comback start city when not pass all the cities\n",
    "        \n",
    "        if ((costPassCity < INF) and (not passed[city])):   # if costPassCity is smaller than INF (has path pass city)\n",
    "            c1 = c + costPassCity                           # define new cost when pass city\n",
    "            \n",
    "            if (c1 < bestCost):                             # if new cost smaller than best cost\n",
    "                path.append(city)                           # update path pass city\n",
    "                passed[city] = True                         # update cities passed\n",
    "                \n",
    "                if (i == n) and (path[i] == start):         # if pass all cities and next city is start city\n",
    "\n",
    "                    bestCost = c1                                    # update status of best cost\n",
    "                    print(\"\\nBest cost is:\", bestCost)               # print best cost\n",
    "                    print(\"Path is:\", [city+1 for city in path])     # print path\n",
    "\n",
    "                elif i <= n - 1:                            # if not passed all cities\n",
    "                    travelingSalesman(i + 1, c1)            # continue find new path with new best cost\n",
    "                \n",
    "                passed[city] = False                        # restore status as not passed city\n",
    "                path.pop()                                  # restore status of path as not accepted city   \n",
    "\n",
    "# set default path has start city and is passed\n",
    "path.append(start)\n",
    "passed[start] = True\n",
    "\n",
    "# implement from 2st city\n",
    "travelingSalesman(1, cost)"
   ]
  }
 ],
 "metadata": {
  "kernelspec": {
   "display_name": "Python 3",
   "language": "python",
   "name": "python3"
  },
  "language_info": {
   "codemirror_mode": {
    "name": "ipython",
    "version": 3
   },
   "file_extension": ".py",
   "mimetype": "text/x-python",
   "name": "python",
   "nbconvert_exporter": "python",
   "pygments_lexer": "ipython3",
   "version": "3.10.11"
  },
  "orig_nbformat": 4
 },
 "nbformat": 4,
 "nbformat_minor": 2
}
