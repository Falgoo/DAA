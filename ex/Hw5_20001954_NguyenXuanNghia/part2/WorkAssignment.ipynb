{
 "cells": [
  {
   "attachments": {},
   "cell_type": "markdown",
   "metadata": {},
   "source": [
    "# Define matrix of mission and people and relate variables"
   ]
  },
  {
   "cell_type": "code",
   "execution_count": 153,
   "metadata": {},
   "outputs": [],
   "source": [
    "# define number of work and people is equal\n",
    "worksAndPeople =    [[5, 2, 17, 8],\n",
    "                    [6, 6, 3, 7],\n",
    "                    [5, 8, 5, 10],\n",
    "                    [7, 1, 9, 4]]\n",
    "\n",
    "\n",
    "n = len(worksAndPeople[0])      # define number of mission\n",
    "used = [False] * n              # define people was assigned work\n",
    "wayAssigning = []               # define way assigning\n",
    "sMax = 0                        # max efficient"
   ]
  },
  {
   "attachments": {},
   "cell_type": "markdown",
   "metadata": {},
   "source": [
    "# Function workAssignment "
   ]
  },
  {
   "cell_type": "code",
   "execution_count": 154,
   "metadata": {},
   "outputs": [
    {
     "name": "stdout",
     "output_type": "stream",
     "text": [
      "\n",
      "Smax is: 20\n",
      "way assigning is: [5, 6, 5, 4]\n",
      "\n",
      "Smax is: 30\n",
      "way assigning is: [5, 6, 10, 9]\n",
      "\n",
      "Smax is: 35\n",
      "way assigning is: [17, 6, 8, 4]\n",
      "\n",
      "Smax is: 40\n",
      "way assigning is: [17, 6, 10, 7]\n"
     ]
    }
   ],
   "source": [
    "def workAssignment(i):\n",
    "    global sMax                     # define global sMax to use and update sMax\n",
    "\n",
    "    for work in range(n):           # work in worksAndPeople\n",
    "\n",
    "        # if people i is not assigning work and work can accepted (use i - 1 because worksAndPeople matrix start from 0)\n",
    "        if (not used[work] and (worksAndPeople[i - 1][work] != -1)):\n",
    "            \n",
    "            wayAssigning.append(worksAndPeople[i - 1][work])        # update way assigning\n",
    "            used[work] = True                                       # udpate people i is assigned work\n",
    "\n",
    "            if (i == n):                                            # if i is the last people\n",
    "\n",
    "                if sum(wayAssigning) > sMax:                        # if effect of this way is better than sMax\n",
    "                    sMax = sum(wayAssigning)                        # update sMax\n",
    "                    print(\"\\nSmax is:\", sMax)                       # show sMax\n",
    "                    print(\"way assigning is:\", wayAssigning)        # show wayAssigning\n",
    "\n",
    "            else:                                                   # if i is not the last people\n",
    "                workAssignment(i + 1)                               # continue assigning work for people i + 1\n",
    "            \n",
    "            used[work] = False                              # restore status before people i is not assigned work\n",
    "            wayAssigning.pop()                              # restore status before accepted work\n",
    "\n",
    "workAssignment(1)"
   ]
  }
 ],
 "metadata": {
  "kernelspec": {
   "display_name": "Python 3",
   "language": "python",
   "name": "python3"
  },
  "language_info": {
   "codemirror_mode": {
    "name": "ipython",
    "version": 3
   },
   "file_extension": ".py",
   "mimetype": "text/x-python",
   "name": "python",
   "nbconvert_exporter": "python",
   "pygments_lexer": "ipython3",
   "version": "3.10.11"
  },
  "orig_nbformat": 4
 },
 "nbformat": 4,
 "nbformat_minor": 2
}
