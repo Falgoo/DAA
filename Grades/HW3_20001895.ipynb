{
  "nbformat": 4,
  "nbformat_minor": 0,
  "metadata": {
    "colab": {
      "provenance": []
    },
    "kernelspec": {
      "name": "python3",
      "display_name": "Python 3"
    },
    "language_info": {
      "name": "python"
    }
  },
  "cells": [
    {
      "cell_type": "markdown",
      "source": [
        "#***Homework3: Recursion***\n"
      ],
      "metadata": {
        "id": "9NNFMGj6rzBO"
      }
    },
    {
      "cell_type": "markdown",
      "source": [
        "**I. Lập và giải công thức đệ quy xác định độ phức tạp thuật toán**\n"
      ],
      "metadata": {
        "id": "rMrzEkfTdGzo"
      }
    },
    {
      "cell_type": "markdown",
      "source": [
        "***1.***\n",
        "\n",
        "*a)* $x(n)= \\begin{cases}2x(n−3)\\text{ for }n>1  \\\\ x(1)=1\\end{cases} $\n",
        "\n",
        "$x(n) = 2x(n-3) = 2(2x(n-6)) = 2^2x(n-6) = ... = 2^kx(n - 3k) = 2^{[n/3]}x(n-3[n/3]) $\n",
        "\n",
        "Vì $X(1) = 1 ≈ X(0) ≈ X(2) \\to  O(2^{[n/3]}) \\to O(2^n)$\n",
        "    \n",
        "*b)* $x(n)= \\begin{cases}x(n−2)−2\\text{ for }n>1  \\\\ x(1)=0\\end{cases} $\n",
        "\n",
        "$x(n) = x(n-2) - 2 = x(n-4) - 2 - 2 = x(n-6) - 3 \\times 2 = ... = x(n-2k)- k \\times 2$ \n",
        " Vì $X(1) = 1 ≈ X(0) \\to  O(-2 \\times[n/2]) \\to O(n)$\n",
        "\n",
        "*c)* $x(n)= \\begin{cases}2x(n−2)−n \\text{ for }n>0\\\\ x(0)=0\\end{cases} $\n",
        "\n",
        "$x(n) = 2x(n-2) - n = 2(2x(n-4) - n) - n = 2^2x(n-4) - (n+2n) = n^3x(n-6) -(n+2n+3n) = ... = 2^k \\times x(n-2k) - (2^{k} -1) \\times n = 2^{[n/2]}x(n - 2[n/2]) - ( 2^{[n/2]} -1)\\times n $\n",
        " Vì $X(0) = 0 ≈ X(1) \\to  O(2^{[n/2]} \\times n) \\to O(2^n \\times n)$\n",
        "\n"
      ],
      "metadata": {
        "id": "Kfu4zSngdmV7"
      }
    },
    {
      "cell_type": "markdown",
      "source": [
        " 2.\n",
        "\n",
        "Thuật toán F(n) sử dụng phương pháp đệ quy để tính giá trị nhị phân của số thập phân n. Các bước của thuật toán như sau:\n",
        "\n",
        "- Nếu n = 0, trả về 0\n",
        "- Nếu n = 1, trả về 1\n",
        "\n",
        "- Gọi đệ quy F(n/2) để tính giá trị nhị phân của n/2\n",
        "\n",
        "  - Nếu n chẵn, trả về kết quả của F(n/2) + str(F(0))\n",
        " - Nếu n lẻ, trả về kết quả của F(n/2) + str(F(1))\n",
        "\n",
        "$F(n)= \\begin{cases}0 \\text{ if } n= 0 \\\\ 1 \\text{ if }  n = 1 \\\\ F(n-1) +str(n\\%2)\\end{cases} $"
      ],
      "metadata": {
        "id": "ydVObpLYHkhh"
      }
    },
    {
      "cell_type": "markdown",
      "source": [
        "**II. Lập trình đệ quy**\n",
        "\n"
      ],
      "metadata": {
        "id": "ICgGnzjWAfGD"
      }
    },
    {
      "cell_type": "code",
      "execution_count": 1,
      "metadata": {
        "id": "dFDugMMa9fIx"
      },
      "outputs": [],
      "source": [
        "import math\n",
        "import time\n",
        "import matplotlib.pyplot as plt\n",
        "import random\n",
        "import numpy as np\n"
      ]
    },
    {
      "cell_type": "code",
      "source": [
        "def countTime(func, arr):\n",
        "    start = time.time()\n",
        "    func(arr)\n",
        "    end = time.time()\n",
        "    return end - start\n"
      ],
      "metadata": {
        "id": "a50z7WqK9-PW"
      },
      "execution_count": 2,
      "outputs": []
    },
    {
      "cell_type": "markdown",
      "source": [
        "1. In biểu diễn nhị phân của số nguyên"
      ],
      "metadata": {
        "id": "_fKh6t4cBRh5"
      }
    },
    {
      "cell_type": "code",
      "source": [
        "def representBinary(x):\n",
        "    if x == 0:\n",
        "        return '0'\n",
        "    elif x == 1:\n",
        "        return '1'\n",
        "    else:\n",
        "        return representBinary(x//2) + str(x%2)"
      ],
      "metadata": {
        "id": "mFa2DvxhCEFQ"
      },
      "execution_count": 3,
      "outputs": []
    },
    {
      "cell_type": "code",
      "source": [
        "def printRepresentation():\n",
        "    numbers = []\n",
        "    times = []\n",
        "    for i in range(1,10000):\n",
        "        numbers.append(i)\n",
        "        time = countTime(representBinary, i)\n",
        "        times.append(time)\n",
        "    plt.plot(numbers, times )\n",
        "    plt.xlabel('n')\n",
        "    plt.ylabel('Thời gian(s)')\n",
        "    plt.title(\"Represention Binary Number\")\n",
        "    plt.show()"
      ],
      "metadata": {
        "id": "4i4-rtiJCGMK"
      },
      "execution_count": 4,
      "outputs": []
    },
    {
      "cell_type": "code",
      "source": [
        "printRepresentation()"
      ],
      "metadata": {
        "colab": {
          "base_uri": "https://localhost:8080/",
          "height": 295
        },
        "id": "hOfBWK_zCHmQ",
        "outputId": "5df4498b-f9af-4b60-a67d-3f0c0c10da5a"
      },
      "execution_count": 5,
      "outputs": [
        {
          "output_type": "display_data",
          "data": {
            "text/plain": [
              "<Figure size 432x288 with 1 Axes>"
            ],
            "image/png": "[encoded data removed]"
          },
          "metadata": {
            "needs_background": "light"
          }
        }
      ]
    },
    {
      "cell_type": "markdown",
      "source": [
        "2. Phân tích số nguyên thành tích các thừa số nguyên tố"
      ],
      "metadata": {
        "id": "OsbWoMIv2CS0"
      }
    },
    {
      "cell_type": "code",
      "source": [
        "def analysis_prime_number(n, i = 2):\n",
        "    if n < i:\n",
        "      if n > 1:\n",
        "        return [n]\n",
        "      else:\n",
        "        return []\n",
        "    else:\n",
        "      if n % i == 0:\n",
        "        count = 0\n",
        "        while n%i == 0:\n",
        "            n //= i\n",
        "            count += 1\n",
        "        return [i]*count + analysis_prime_number(n , i + 1)\n",
        "      else:\n",
        "        return analysis_prime_number(n, i + 1)"
      ],
      "metadata": {
        "id": "4mC6dfd-2vYp"
      },
      "execution_count": 6,
      "outputs": []
    },
    {
      "cell_type": "code",
      "source": [
        "def printAnalysisPrimeNumber():\n",
        "    numbers = []\n",
        "    times = []\n",
        "    for i in range(1,900):\n",
        "        numbers.append(i)\n",
        "        time = countTime(analysis_prime_number, i)\n",
        "        times.append(time)\n",
        "    plt.plot(numbers, times )\n",
        "    plt.xlabel('n')\n",
        "    plt.ylabel('Thời gian(s)')\n",
        "    plt.title(\"Analysis Prime Number\")\n",
        "    plt.show()\n",
        "\n",
        "printAnalysisPrimeNumber()"
      ],
      "metadata": {
        "colab": {
          "base_uri": "https://localhost:8080/",
          "height": 295
        },
        "id": "sEduOFDh3082",
        "outputId": "9dbae4e0-a7fd-43d6-8e7f-ede970d58cf8"
      },
      "execution_count": 7,
      "outputs": [
        {
          "output_type": "display_data",
          "data": {
            "text/plain": [
              "<Figure size 432x288 with 1 Axes>"
            ],
            "image/png": "[encoded data removed]"
          },
          "metadata": {
            "needs_background": "light"
          }
        }
      ]
    },
    {
      "cell_type": "code",
      "source": [
        "def findFibonacci(n):\n",
        "    if n == 0:\n",
        "        return 0\n",
        "    elif n == 1:\n",
        "        return 1\n",
        "    else:\n",
        "        return findFibonacci(n-1) + findFibonacci(n-2)"
      ],
      "metadata": {
        "id": "KbMSpto9_OAQ"
      },
      "execution_count": 8,
      "outputs": []
    },
    {
      "cell_type": "code",
      "source": [
        "def printFindFibonacci():\n",
        "    numbers = []\n",
        "    times = []\n",
        "    for i in range(1,40):\n",
        "        numbers.append(i)\n",
        "        time = countTime(findFibonacci, i)\n",
        "        times.append(time)\n",
        "    plt.plot(numbers, times)\n",
        "    plt.xlabel('n')\n",
        "    plt.ylabel('Thời gian(s)')\n",
        "    plt.title('Find Fibonacci')\n",
        "    plt.show()"
      ],
      "metadata": {
        "id": "CKZTpVVl-200"
      },
      "execution_count": 9,
      "outputs": []
    },
    {
      "cell_type": "code",
      "source": [
        "printFindFibonacci()"
      ],
      "metadata": {
        "id": "raNpCtTq_Sum",
        "colab": {
          "base_uri": "https://localhost:8080/",
          "height": 295
        },
        "outputId": "9309b416-11e7-4f51-f80f-6dc3dd8526bb"
      },
      "execution_count": 10,
      "outputs": [
        {
          "output_type": "display_data",
          "data": {
            "text/plain": [
              "<Figure size 432x288 with 1 Axes>"
            ],
            "image/png": "[encoded data removed]"
          },
          "metadata": {
            "needs_background": "light"
          }
        }
      ]
    },
    {
      "cell_type": "markdown",
      "source": [
        "4. Bài toán tháp Hà Nội\n"
      ],
      "metadata": {
        "id": "pZHXIJm5DZ24"
      }
    },
    {
      "cell_type": "code",
      "source": [
        "def towerOfHanoi(n,from_rod='a', to_rod='b', aux_rod='C'):\n",
        "    if n == 1:\n",
        "        return 1\n",
        "    else:\n",
        "        return towerOfHanoi(n-1,from_rod,aux_rod,to_rod) + towerOfHanoi(n-1,to_rod,from_rod,aux_rod) + 1"
      ],
      "metadata": {
        "id": "EMykFaAoDpeC"
      },
      "execution_count": 11,
      "outputs": []
    },
    {
      "cell_type": "code",
      "source": [
        "def printTowerOfHanoi():\n",
        "    numbers = []\n",
        "    times = []\n",
        "    for i in range(1,30):\n",
        "        numbers.append(i)\n",
        "        time = countTime(towerOfHanoi, i)\n",
        "        times.append(time)\n",
        "    plt.plot(numbers, times)\n",
        "    plt.xlabel('n')\n",
        "    plt.ylabel('Thời gian(s)')\n",
        "    plt.title('Tower Of Hanoi')\n",
        "    plt.show()"
      ],
      "metadata": {
        "id": "oreGjRfOECUq"
      },
      "execution_count": 12,
      "outputs": []
    },
    {
      "cell_type": "code",
      "source": [
        "printTowerOfHanoi()"
      ],
      "metadata": {
        "colab": {
          "base_uri": "https://localhost:8080/",
          "height": 295
        },
        "id": "tJZT1WhMkhD8",
        "outputId": "80bed26a-f750-41e3-f2ea-1ad5cc58bc28"
      },
      "execution_count": 13,
      "outputs": [
        {
          "output_type": "display_data",
          "data": {
            "text/plain": [
              "<Figure size 432x288 with 1 Axes>"
            ],
            "image/png": "[encoded data removed]"
          },
          "metadata": {
            "needs_background": "light"
          }
        }
      ]
    },
    {
      "cell_type": "markdown",
      "source": [
        "**III. Đặt bài toán, thiết kế, phân tích và triển khai thuật toán**\n"
      ],
      "metadata": {
        "id": "n7U8IKyLEiJG"
      }
    },
    {
      "cell_type": "markdown",
      "source": [
        "**Bài toán xếp balo:** Có $n$ đồ vật, mỗi vật có trọng lượng $P_i$ và giá trị $V_i(i=1..n)$. Có\n",
        "một chiếc balo có thể chứa trọng lượng tối đa là $M$. Hãy xác định tổng giá trị lớn nhất\n",
        "của các vật có thể đưa vào balo. Chỉ ra một cách cho các vật vào balo.\n",
        "\n",
        "\n",
        "Xây dựng thuật toán:\n",
        "\n",
        "- Tạo bảng DP để lưu giá trị của các trường hợp\n",
        "- Dùng vòng lặp để duyệt qua từng món hàng:\n",
        "  - Vòng lặp để duyệt qua khối lượng từng món hàng\n",
        "   - Gọi $f(i,j)$ là tổng giá trị lớn nhất của cái túi khi xét từ vật 1 đến vật $i$ trong túi là túi có giới hạn là j \n",
        "\n",
        "    - Nếu i hoặc $M \\le 0 $ thì không có cách xếp nào $\\to f(0,j) = 0, f(i,0 ) = 0 $\n",
        "    - Nếu $V_i > M$ thì bỏ qua vật $n \\to f(i,M) =f(i-1,M) $ \n",
        "    - Nếu $V_i \\le M$ ta có 2 trường hợp:\n",
        "      - Nếu không lấy $i \\to f(i,M) =f(i-1,M) $ \n",
        "      - Nếu lấy $i\\to f(i,M) = V_i +  f(i-1,M - P_i)$\n",
        " \n",
        "  - $\\to \\begin{cases}\n",
        "f(0,j) = 0\\\\\n",
        "f(i,0) = 0\\\\\n",
        "f(i,j) = max(f(i-1,j),V_i +  f(i-1,M - P_i) )\n",
        "\\end{cases}$\n",
        "\n",
        "\n",
        "Ta có:\n",
        "\n",
        "$f(i,j) = max(f(i-1,j),V_i +  f(i-1,M - P_i)) \\le max(2f(i-1,j))$\n",
        "\n",
        "$\\to f(i,j) \\le max(2(max(2f(i-2,j))$\n",
        "\n",
        "$\\to f(i,j) ≈ O(1) $ \n",
        "vì các giá trị của $f(i-1,j)$ đã được tính là lưu lại\n",
        "\n",
        "Độ phức tạp của thuật toán xếp balo sẽ phụ thuộc vào số lượng của các vật và giới hạn của túi  $\\to O(nM)$ trong đó n là số lượng vật, M là giới hạn của túi.\n",
        "\n",
        "*Thực hiện thuật toán:*\n",
        "\n",
        "\n"
      ],
      "metadata": {
        "id": "t9XQziv-F82_"
      }
    },
    {
      "cell_type": "code",
      "source": [
        "def proceduce_bag(p,v,m):\n",
        "    n = len(p)\n",
        "    dp = [[0 for i in range(m+1)] for j in range(n+1)]\n",
        "    chosen = [[False for _ in range(m+1)] for _ in range(n+1)]\n",
        "    for i in range(1,n+1):\n",
        "        for j in range(1,m+1):\n",
        "            if p[i-1] <=  j:\n",
        "                if p[i-1] + dp[i-1][j-p[i-1]] > dp[i-1][j]:\n",
        "                    dp[i][j] = v[i-1] + dp[i-1][j-p[i-1]]\n",
        "                    chosen[i][j] = True\n",
        "                else:\n",
        "                    dp[i][j] = dp[i-1][j]\n",
        "            else:\n",
        "                dp[i][j] = dp[i-1][j]\n",
        "    i, j = n, M\n",
        "    chosen_items = []\n",
        "    while i > 0 and j > 0:\n",
        "        if chosen[i][j]:\n",
        "            chosen_items.append(i)\n",
        "            j -= p[i-1]\n",
        "        i -= 1\n",
        "    chosen_items.reverse()\n",
        "    return dp[n][M], chosen_items   \n"
      ],
      "metadata": {
        "id": "rIuOwb9XZftr"
      },
      "execution_count": 14,
      "outputs": []
    },
    {
      "cell_type": "code",
      "source": [
        "M = 10\n",
        "P = [6,3,5,4,6]\n",
        "W = [2,2,6,5,4]\n",
        "a,b = proceduce_bag(P,W,M)\n",
        "print(a,b)"
      ],
      "metadata": {
        "colab": {
          "base_uri": "https://localhost:8080/"
        },
        "id": "8P0mNrY5qz_Y",
        "outputId": "0593743b-c00f-4495-d110-0ed5bbac411b"
      },
      "execution_count": 15,
      "outputs": [
        {
          "output_type": "stream",
          "name": "stdout",
          "text": [
            "11 [3, 4]\n"
          ]
        }
      ]
    }
  ]
}