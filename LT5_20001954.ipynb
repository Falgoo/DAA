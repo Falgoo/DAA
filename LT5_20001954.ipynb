{
 "cells": [
  {
   "cell_type": "code",
   "execution_count": 30,
   "metadata": {},
   "outputs": [
    {
     "name": "stdout",
     "output_type": "stream",
     "text": [
      "37\n"
     ]
    }
   ],
   "source": [
    "def valuePolinomial(n, As, x):\n",
    "    sum = 0\n",
    "    for i in range(0, n):\n",
    "        xPow = 1\n",
    "        for j in range(i):\n",
    "                xPow *= x\n",
    "        sum+= As[i]*xPow\n",
    "    print(sum)\n",
    "valuePolinomial(4,[1,2,2,3],2)"
   ]
  },
  {
   "cell_type": "code",
   "execution_count": 31,
   "metadata": {},
   "outputs": [
    {
     "name": "stdout",
     "output_type": "stream",
     "text": [
      "37\n"
     ]
    }
   ],
   "source": [
    "def valuePolinomial(n, As, x):\n",
    "    sum = 0\n",
    "    xPow = 1\n",
    "    for i in range(n):\n",
    "        sum+= As[i]*xPow\n",
    "        xPow *= x\n",
    "    print(sum)\n",
    "valuePolinomial(4,[1,2,2,3],2)"
   ]
  },
  {
   "cell_type": "code",
   "execution_count": 32,
   "metadata": {},
   "outputs": [
    {
     "name": "stdout",
     "output_type": "stream",
     "text": [
      "Bước 1 ['E', 'O', 'M', 'H', 'W', 'R', 'K']\n",
      "Bước 2 ['E', 'H', 'M', 'O', 'W', 'R', 'K']\n",
      "Bước 3 ['E', 'H', 'K', 'O', 'W', 'R', 'M']\n",
      "Bước 4 ['E', 'H', 'K', 'M', 'W', 'R', 'O']\n",
      "Bước 5 ['E', 'H', 'K', 'M', 'O', 'R', 'W']\n",
      "Bước 6 ['E', 'H', 'K', 'M', 'O', 'R', 'W']\n"
     ]
    },
    {
     "data": {
      "text/plain": [
       "['E', 'H', 'K', 'M', 'O', 'R', 'W']"
      ]
     },
     "execution_count": 32,
     "metadata": {},
     "output_type": "execute_result"
    }
   ],
   "source": [
    "def selectionSort(array):\n",
    "    n = len(array)\n",
    "    for i in range(n - 1):\n",
    "        minIndex = i\n",
    "        for j in range(i + 1, n):\n",
    "            if array[j] < array[minIndex]:\n",
    "                minIndex = j\n",
    "        array[i], array[minIndex] = array[minIndex], array[i]\n",
    "        print(\"Bước\", (i+1), array)\n",
    "    return array\n",
    "\n",
    "selectionSort([\"H\", \"O\", \"M\",\"E\", \"W\", \"R\", \"K\"])"
   ]
  },
  {
   "cell_type": "code",
   "execution_count": 37,
   "metadata": {},
   "outputs": [
    {
     "name": "stdout",
     "output_type": "stream",
     "text": [
      "Bước 1 ['E', 'O', 'M', 'H', 'W', 'R', 'K']\n",
      "Bước 2 ['E', 'M', 'O', 'H', 'W', 'R', 'K']\n",
      "Bước 3 ['E', 'H', 'O', 'M', 'W', 'R', 'K']\n",
      "Bước 4 ['E', 'H', 'M', 'O', 'W', 'R', 'K']\n",
      "Bước 5 ['E', 'H', 'K', 'O', 'W', 'R', 'M']\n",
      "Bước 6 ['E', 'H', 'K', 'M', 'W', 'R', 'O']\n",
      "Bước 7 ['E', 'H', 'K', 'M', 'R', 'W', 'O']\n",
      "Bước 8 ['E', 'H', 'K', 'M', 'O', 'W', 'R']\n",
      "Bước 9 ['E', 'H', 'K', 'M', 'O', 'R', 'W']\n"
     ]
    },
    {
     "data": {
      "text/plain": [
       "['E', 'H', 'K', 'M', 'O', 'R', 'W']"
      ]
     },
     "execution_count": 37,
     "metadata": {},
     "output_type": "execute_result"
    }
   ],
   "source": [
    "def bubbleSort(array):\n",
    "    newArray = array.copy()\n",
    "    i = 0\n",
    "    for value in range(len(newArray)):\n",
    "        for run in range(value, len(newArray)):\n",
    "\n",
    "            if newArray[value] > newArray[run]:\n",
    "                newArray[value], newArray[run] = newArray[run], newArray[value]\n",
    "                i += 1\n",
    "                print(\"Bước\", (i), newArray)\n",
    "    return newArray\n",
    "bubbleSort([\"H\", \"O\", \"M\",\"E\", \"W\", \"R\", \"K\"])"
   ]
  },
  {
   "cell_type": "code",
   "execution_count": 38,
   "metadata": {},
   "outputs": [
    {
     "name": "stdout",
     "output_type": "stream",
     "text": [
      "Max value of C(n) = 10.0 when p = 0.0\n",
      "Min value of C(n) = 5.5 when p = 1.0\n"
     ]
    }
   ],
   "source": [
    "def C(n, p):\n",
    "    return p * (n + 1) / 2 + n * (1 - p)\n",
    "\n",
    "n = 10 # giá trị của n\n",
    "step = 0.01 # bước nhảy\n",
    "max_val = float('-inf') # giá trị lớn nhất của hàm C(n)\n",
    "min_val = float('inf') # giá trị nhỏ nhất của hàm C(n)\n",
    "max_p = 0 # giá trị của p cho giá trị lớn nhất của hàm C(n)\n",
    "min_p = 0 # giá trị của p cho giá trị nhỏ nhất của hàm C(n)\n",
    "\n",
    "for p in range(0, 101):\n",
    "    p = p / 100.0 # chuyển đổi p thành giá trị thực\n",
    "    val = C(n, p)\n",
    "    if val > max_val:\n",
    "        max_val = val\n",
    "        max_p = p\n",
    "    if val < min_val:\n",
    "        min_val = val\n",
    "        min_p = p\n",
    "\n",
    "print(\"Max value of C(n) = {} when p = {}\".format(max_val, max_p))\n",
    "print(\"Min value of C(n) = {} when p = {}\".format(min_val, min_p))"
   ]
  },
  {
   "cell_type": "code",
   "execution_count": 39,
   "metadata": {},
   "outputs": [
    {
     "name": "stdout",
     "output_type": "stream",
     "text": [
      "1.0 0.0\n"
     ]
    }
   ],
   "source": [
    "def valuePForMinMax(n):\n",
    "    max_val = float('-inf')\n",
    "    min_val = float('inf')\n",
    "    pForMax = 0\n",
    "    pForMin = 0\n",
    "    for p in range(0, 101):\n",
    "        p = p / 100.0\n",
    "        val = p * (n + 1) / 2 + n * (1 - p)\n",
    "        if val > max_val:\n",
    "            max_val = val\n",
    "            pForMax = p\n",
    "        if val < min_val:\n",
    "            min_val = val\n",
    "            pForMin = p\n",
    "    return pForMin, pForMax\n",
    "\n",
    "p1, p2 = valuePForMinMax(10)\n",
    "print(p1, p2)"
   ]
  }
 ],
 "metadata": {
  "kernelspec": {
   "display_name": "Python 3",
   "language": "python",
   "name": "python3"
  },
  "language_info": {
   "codemirror_mode": {
    "name": "ipython",
    "version": 3
   },
   "file_extension": ".py",
   "mimetype": "text/x-python",
   "name": "python",
   "nbconvert_exporter": "python",
   "pygments_lexer": "ipython3",
   "version": "3.10.10"
  },
  "orig_nbformat": 4
 },
 "nbformat": 4,
 "nbformat_minor": 2
}
